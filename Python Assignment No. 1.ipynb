{
 "cells": [
  {
   "cell_type": "markdown",
   "id": "0edece2d",
   "metadata": {},
   "source": [
    "### 1. In the below elements which of them are values or an expression? \n",
    "eg:- values can be integer or string and expressions will be mathematical operators."
   ]
  },
  {
   "cell_type": "markdown",
   "id": "f6564899",
   "metadata": {},
   "source": [
    "*\n",
    "'hello'\n",
    "-87.8\n",
    "-\n",
    "/\n",
    "+\n",
    "6"
   ]
  },
  {
   "cell_type": "markdown",
   "id": "77bcaa4e",
   "metadata": {},
   "source": [
    "Values : 'hello' , 6 \n",
    "    \n",
    "Expressions : * , - , / , + "
   ]
  },
  {
   "cell_type": "markdown",
   "id": "ee2a51fa",
   "metadata": {},
   "source": [
    "### 2. What is the difference between string and variable?"
   ]
  },
  {
   "cell_type": "markdown",
   "id": "790f2b54",
   "metadata": {},
   "source": [
    "A variable can contain a string, but a string cannot contain a variable.\n",
    "eg : x = \"Raj\"\n",
    "in this case x is a variable and \"Raj\" is a string"
   ]
  },
  {
   "cell_type": "markdown",
   "id": "271d53ce",
   "metadata": {},
   "source": [
    "### 3. Describe three different data types."
   ]
  },
  {
   "cell_type": "markdown",
   "id": "73954d86",
   "metadata": {},
   "source": [
    "1) Numeric data type : int , float , complex\n",
    "\n",
    "              a) int : int is a whole number \n",
    "                      eg. 2, 20, 22\n",
    "                      \n",
    "            b) float : float is a decimal number\n",
    "                      eg. 2.0, 2.2, \n",
    "                      \n",
    "          c) complex : It is a mathematical expression consist of real part and the imaginary part. The imaginary part is                              denoted with a number followed with a letter j\n",
    "                      eg. 58+27j\n",
    "\n",
    "2) Text data type : str \n",
    "\n",
    "           a) str : String can be a any alphanumeric character enclosed within single ('') or double (\"\") quote\n",
    "                    eg. 'Raj' , \"Gayatri\" \n",
    "               \n",
    "\n",
    "3) Sequence data type : list , tuple , range \n",
    "\n",
    "              a) list : list contains one or more than one element having heterogeneous data type\n",
    "                        Elements in the list are always enclosed with square bracket[] \n",
    "                        list is Mutable, ordered and allow duplicates\n",
    "                        Since it is mutable it has variable length and it requires more memory\n",
    "                        eg. [1,2,3,4,'r','a',5]\n",
    "                        \n",
    "             b) tuple : tuple contains one or more than one element having heterogeneous data type\n",
    "                        Elements in the tuple are always enclosed with parenthesis()\n",
    "                        tuple is immutable, ordered and allow duplicates\n",
    "                        Since it is immutable it has fixed length and it requires less memory\n",
    "                        eg. (1,2,3,4,'r','a',5)     "
   ]
  },
  {
   "cell_type": "markdown",
   "id": "8f8a02bd",
   "metadata": {},
   "source": [
    "### 4. What is an expression made up of? What do all expressions do?"
   ]
  },
  {
   "cell_type": "markdown",
   "id": "29a0eb36",
   "metadata": {},
   "source": [
    "A combination of operands and operators is called an expressions. It is a piece of code containing mathematical operator which produce an output.\n",
    "\n",
    "eg. x= 2 , y= 5\n",
    "    sum= x+y"
   ]
  },
  {
   "cell_type": "markdown",
   "id": "45d64e23",
   "metadata": {},
   "source": [
    "### 5. This assignment statements, like spam = 10. What is the difference between an expression and a statement?"
   ]
  },
  {
   "cell_type": "markdown",
   "id": "47372902",
   "metadata": {},
   "source": [
    "1)Any instruction written in the source code and executed by the python interpreter is called a statement.\n",
    "  A combination of operands and operators is called an expressions.\n",
    "  \n",
    "2)A statement in python is not evaluated for some results.\n",
    "  An expression in python is is evaluated for some results.\n",
    "  \n",
    "3)The execution of a statement changes the state of the variable. \n",
    "  The expression evaluation does not result in any state change.\n",
    "  \n",
    "  spam=10 is a statement"
   ]
  },
  {
   "cell_type": "markdown",
   "id": "64ccb0c0",
   "metadata": {},
   "source": [
    "### 6. After running the following code, what does the variable bacon contain?"
   ]
  },
  {
   "cell_type": "markdown",
   "id": "ced1a7f5",
   "metadata": {},
   "source": [
    "bacon = 22 ,\n",
    "bacon + 1"
   ]
  },
  {
   "cell_type": "code",
   "execution_count": 6,
   "id": "65b538d2",
   "metadata": {},
   "outputs": [
    {
     "name": "stdout",
     "output_type": "stream",
     "text": [
      "22\n"
     ]
    }
   ],
   "source": [
    "bacon=22\n",
    "bacon+1\n",
    "print(bacon)"
   ]
  },
  {
   "cell_type": "markdown",
   "id": "9981baee",
   "metadata": {},
   "source": [
    "### 7. What should the values of the following two terms be?"
   ]
  },
  {
   "cell_type": "code",
   "execution_count": 11,
   "id": "380c61c7",
   "metadata": {},
   "outputs": [
    {
     "name": "stdout",
     "output_type": "stream",
     "text": [
      "spamspamspam\n",
      "\n",
      "spamspamspam\n"
     ]
    }
   ],
   "source": [
    "a = 'spam'+'spamspam'\n",
    "b = 'spam' * 3\n",
    "\n",
    "print(a)\n",
    "print()\n",
    "print(b)"
   ]
  },
  {
   "cell_type": "code",
   "execution_count": 12,
   "id": "b350c361",
   "metadata": {},
   "outputs": [
    {
     "name": "stdout",
     "output_type": "stream",
     "text": [
      "spamspamspam\n",
      "\n",
      "spamspamspam\n"
     ]
    }
   ],
   "source": [
    "print('spam' + 'spamspam')\n",
    "print()\n",
    "print('spam'*3)"
   ]
  },
  {
   "cell_type": "markdown",
   "id": "ededfbcc",
   "metadata": {},
   "source": [
    "### 8. Why is eggs a valid variable name while 100 is invalid?"
   ]
  },
  {
   "cell_type": "markdown",
   "id": "835b6382",
   "metadata": {},
   "source": [
    "A variable name must starts from an underscore or an alphabate\n",
    "that's why eggs is a valid variable name while 100 is invalid"
   ]
  },
  {
   "cell_type": "markdown",
   "id": "f5a00fc0",
   "metadata": {},
   "source": [
    "### 9. What three functions can be used to get the integer, floating-point number, or string version of a value?"
   ]
  },
  {
   "cell_type": "code",
   "execution_count": 22,
   "id": "e7ad9bde",
   "metadata": {},
   "outputs": [
    {
     "name": "stdout",
     "output_type": "stream",
     "text": [
      "5\n",
      "5.0\n",
      "5\n",
      "<class 'int'>\n",
      "<class 'float'>\n",
      "<class 'str'>\n"
     ]
    }
   ],
   "source": [
    "n = 5\n",
    "\n",
    "#print(n)\n",
    "print(int(n))\n",
    "print(float(n))\n",
    "print(str(n))\n",
    "print(type(int(n)))\n",
    "print(type(float(n)))\n",
    "print(type(str(n)))"
   ]
  },
  {
   "cell_type": "code",
   "execution_count": 23,
   "id": "4a05a6ae",
   "metadata": {},
   "outputs": [
    {
     "name": "stdout",
     "output_type": "stream",
     "text": [
      "5\n",
      "<class 'int'>\n",
      "\n",
      "5.0\n",
      "<class 'float'>\n",
      "\n",
      "5\n",
      "<class 'str'>\n"
     ]
    }
   ],
   "source": [
    "n = 5\n",
    "\n",
    "n_int = int(n)\n",
    "print(n_int)\n",
    "print(type(n_int))\n",
    "print()\n",
    "\n",
    "n_float = float(n)\n",
    "print(n_float)\n",
    "print(type(n_float))\n",
    "print()\n",
    "\n",
    "n_str = str(n)\n",
    "print(n_str)\n",
    "print(type(n_str))"
   ]
  },
  {
   "cell_type": "markdown",
   "id": "aefdd81f",
   "metadata": {},
   "source": [
    "### 10. Why does this expression cause an error? How can you fix it?"
   ]
  },
  {
   "cell_type": "code",
   "execution_count": 29,
   "id": "b8ff0d4f",
   "metadata": {},
   "outputs": [
    {
     "ename": "TypeError",
     "evalue": "can only concatenate str (not \"int\") to str",
     "output_type": "error",
     "traceback": [
      "\u001b[1;31m---------------------------------------------------------------------------\u001b[0m",
      "\u001b[1;31mTypeError\u001b[0m                                 Traceback (most recent call last)",
      "\u001b[1;32m~\\AppData\\Local\\Temp\\ipykernel_3852\\2507519623.py\u001b[0m in \u001b[0;36m<module>\u001b[1;34m\u001b[0m\n\u001b[1;32m----> 1\u001b[1;33m \u001b[1;34m'I have eaten'\u001b[0m\u001b[1;33m+\u001b[0m\u001b[1;36m99\u001b[0m\u001b[1;33m+\u001b[0m \u001b[1;34m'burritos'\u001b[0m\u001b[1;33m\u001b[0m\u001b[1;33m\u001b[0m\u001b[0m\n\u001b[0m",
      "\u001b[1;31mTypeError\u001b[0m: can only concatenate str (not \"int\") to str"
     ]
    }
   ],
   "source": [
    "'I have eaten'+99+ 'burritos'"
   ]
  },
  {
   "cell_type": "code",
   "execution_count": 30,
   "id": "58f3ab12",
   "metadata": {},
   "outputs": [
    {
     "data": {
      "text/plain": [
       "'I have eaten 99 burritos'"
      ]
     },
     "execution_count": 30,
     "metadata": {},
     "output_type": "execute_result"
    }
   ],
   "source": [
    "'I have eaten'+' 99 '+ 'burritos'"
   ]
  }
 ],
 "metadata": {
  "kernelspec": {
   "display_name": "Python 3 (ipykernel)",
   "language": "python",
   "name": "python3"
  },
  "language_info": {
   "codemirror_mode": {
    "name": "ipython",
    "version": 3
   },
   "file_extension": ".py",
   "mimetype": "text/x-python",
   "name": "python",
   "nbconvert_exporter": "python",
   "pygments_lexer": "ipython3",
   "version": "3.9.13"
  }
 },
 "nbformat": 4,
 "nbformat_minor": 5
}
